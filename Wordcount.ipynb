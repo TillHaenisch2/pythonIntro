{
 "cells": [
  {
   "cell_type": "markdown",
   "metadata": {},
   "source": [
    "# Wordcount\n",
    "In diesem Abschnitt geht es darum, die Häufigkeit der Wörter im Text einer Datei zu zählen. Dazu müssen wir uns zunächst anschauen, wie wir den Inhalt einer Datei lesen.\n",
    "\n",
    "In Ihrem Verzeichnis finden Sie zwei Textdateien, short.txt und long.txt. Die Datei long.txt enthält den kompletten Text des Faust ersten Teils. Die Datei short.txt nur ein paar Zeilen zum ausprobieren.\n",
    "\n",
    "Zum Lesen einer Datei gibt es verschiedene Möglichkeiten, hier, wo es nicht um Performance, Speicherplatz oder ähnliche Dinge geht, lesen wir einfach die ganze Datei zeilenweise ein:"
   ]
  },
  {
   "cell_type": "code",
   "execution_count": 63,
   "metadata": {
    "collapsed": false
   },
   "outputs": [
    {
     "name": "stdout",
     "output_type": "stream",
     "text": [
      "Ihr naht euch wieder schwankende Gestalten\n",
      "\n",
      "Die frueh sich einst dem trueben Blick gezeigt\n",
      "\n",
      "Versuch ich wohl euch diesmal festzuhalten\n",
      "\n",
      "Fuehl ich mein Herz noch jenem Wahn geneigt\n",
      "\n",
      "Ihr draengt euch zu  nun gut so moegt ihr walten\n",
      "\n",
      "Wie ihr aus Dunst und Nebel um mich steigt\n",
      "\n",
      "Mein Busen fuehlt sich jugendlich erschuettert\n",
      "\n",
      "Vom Zauberhauch der euren Zug umwittert\n",
      "\n",
      "\n",
      "\n",
      "Ihr bringt mit euch die Bilder froher Tage\n",
      "\n"
     ]
    }
   ],
   "source": [
    "f = open(\"short.txt\")\n",
    "\n",
    "for line in f:\n",
    "    print(line)"
   ]
  },
  {
   "cell_type": "markdown",
   "metadata": {},
   "source": [
    "Wie man sieht, sieht man immer eine Leerzeile zwischen den Textzeilen ...\n",
    "Das liegt daran, dass beim Lesen der Zeilen das Zeilenendezeichen mit gelesen wird. Das brauchenw ir aber nicht mehr, deshalb nehmen wir es weg. Das erledigt die Funktion rstrip()"
   ]
  },
  {
   "cell_type": "code",
   "execution_count": null,
   "metadata": {
    "collapsed": false
   },
   "outputs": [],
   "source": [
    "f = open(\"short.txt\")\n",
    "\n",
    "for line in f:\n",
    "    print(line.rstrip())"
   ]
  },
  {
   "cell_type": "markdown",
   "metadata": {},
   "source": [
    "Um den folgenden Code einfacher zu halten, zerlegen wir den Text in einzelne Wörter und speichern die in einer Liste ab."
   ]
  },
  {
   "cell_type": "code",
   "execution_count": null,
   "metadata": {
    "collapsed": false
   },
   "outputs": [],
   "source": [
    "f = open(\"short.txt\")\n",
    "words = []\n",
    "...\n",
    "\n",
    "print(len(words))\n",
    "\n",
    "if (len(words) != 67):\n",
    "    print(\"Fehler !\")"
   ]
  },
  {
   "cell_type": "markdown",
   "metadata": {},
   "source": [
    "Jetzt zählen wir die Wörter. Dazu verwenden wir ein Dictionary namens counts"
   ]
  },
  {
   "cell_type": "code",
   "execution_count": null,
   "metadata": {
    "collapsed": true
   },
   "outputs": [],
   "source": [
    "counts = {}"
   ]
  },
  {
   "cell_type": "markdown",
   "metadata": {},
   "source": [
    "Um den Programmcode wieder verwenden zu können, definieren wir uns eine Funktion read_words(name),\n",
    "die eine Liste mit den Wörtern aus der Datei zurück liefert und eine Funktion count_words(words), die die Häufigkeit der Wörter in der Liste list als Dictionary zurück liefert."
   ]
  },
  {
   "cell_type": "code",
   "execution_count": null,
   "metadata": {
    "collapsed": false
   },
   "outputs": [],
   "source": [
    "def read_words(name):\n",
    "    f = open(name)\n",
    "...\n",
    "    return words\n",
    "\n",
    "l=read_words(\"short.txt\")\n",
    "print(l)"
   ]
  },
  {
   "cell_type": "code",
   "execution_count": null,
   "metadata": {
    "collapsed": false
   },
   "outputs": [],
   "source": [
    "def count_words(words):\n",
    "    counts = {}\n",
    "    ...\n",
    "    return counts\n",
    "\n",
    "count_words(l)"
   ]
  },
  {
   "cell_type": "markdown",
   "metadata": {},
   "source": [
    "Wenn alles funktioniert, probieren wir das gleiche mit dem ganzen Text aus der Datei long.txt aus."
   ]
  },
  {
   "cell_type": "code",
   "execution_count": null,
   "metadata": {
    "collapsed": false
   },
   "outputs": [],
   "source": [
    "words = read_words(\"long.txt\")\n",
    "counts = count_words(words)\n",
    "print(counts)"
   ]
  },
  {
   "cell_type": "markdown",
   "metadata": {},
   "source": [
    "Welches ist das häufigste Wort im Text ?"
   ]
  },
  {
   "cell_type": "code",
   "execution_count": null,
   "metadata": {
    "collapsed": false
   },
   "outputs": [],
   "source": [
    "anzahl = 0\n",
    "wort = \"\"\n",
    "...\n",
    "print(wort)\n",
    "print(anzahl)\n",
    "    "
   ]
  },
  {
   "cell_type": "code",
   "execution_count": null,
   "metadata": {
    "collapsed": false
   },
   "outputs": [],
   "source": []
  },
  {
   "cell_type": "code",
   "execution_count": null,
   "metadata": {
    "collapsed": true
   },
   "outputs": [],
   "source": []
  }
 ],
 "metadata": {
  "kernelspec": {
   "display_name": "Python 3",
   "language": "python",
   "name": "python3"
  },
  "language_info": {
   "codemirror_mode": {
    "name": "ipython",
    "version": 3
   },
   "file_extension": ".py",
   "mimetype": "text/x-python",
   "name": "python",
   "nbconvert_exporter": "python",
   "pygments_lexer": "ipython3",
   "version": "3.4.3"
  }
 },
 "nbformat": 4,
 "nbformat_minor": 0
}
