{
 "cells": [
  {
   "cell_type": "markdown",
   "metadata": {},
   "source": [
    "# Beispiel: Filter\n",
    "In diesem Abschnitt werden wir das (alles ;-) Gelernte an einem realen Beispiel anwenden. Dazu verwenden wir einen Datensatz mit Informationen zu den Titanic-Passagieren. Achtung: Dieser Datensatz stammt von Kaggle und ist nicht öffentlich. Ich habe die Daten für Sie heruntergeladen und in Ihr Verzeichnis kopiert, um Ihnen die Mühe der Registrierung zu ersparen. Trotzdem gehe ich davon aus, dass Sie die Daten so behandeln, als hätten Sie sie selber runtergeladen, also insbesondere nicht öffentlich machen. Sollten Sie mit den Daten mehr machen wollen, als dieses Notebook zu bearbeiten (also z.B. auf Ihren Laptop kopieren usw.), dann laden Sie sich die Daten bitte selber bei Kaggle runter. Dazu müssen Sie sich registrieren, das ist aber kostenlos. https://www.kaggle.com/c/titanic/data?train.csv\n",
    "\n",
    "Die Daten liegen im .csv-Format vor, jede Zeile enthält einen Datensatz, die einzelnen Attribute sind durch Komma getrennt. Die erste Zeile enthält die Überschriften der Spalten. Den kompletten Datensatz finden Sie in der Datei train.csv, die ersten zehn Zeilen in der Datei train_short.csv "
   ]
  },
  {
   "cell_type": "code",
   "execution_count": 46,
   "metadata": {
    "collapsed": false
   },
   "outputs": [
    {
     "name": "stdout",
     "output_type": "stream",
     "text": [
      "PassengerId;Survived;Pclass;Name;Sex;Age;SibSp;Parch;Ticket;Fare;Cabin;Embarked\n",
      "1;0;3;Braund, Mr. Owen Harris;male;22;1;0;A/5 21171;7.25;;S\n",
      "2;1;1;Cumings, Mrs. John Bradley (Florence Briggs Thayer);female;38;1;0;PC 17599;71.2833;C85;C\n",
      "3;1;3;Heikkinen, Miss. Laina;female;26;0;0;STON/O2. 3101282;7.925;;S\n",
      "4;1;1;Futrelle, Mrs. Jacques Heath (Lily May Peel);female;35;1;0;113803;53.1;C123;S\n",
      "5;0;3;Allen, Mr. William Henry;male;35;0;0;373450;8.05;;S\n",
      "6;0;3;Moran, Mr. James;male;;0;0;330877;8.4583;;Q\n",
      "7;0;1;McCarthy, Mr. Timothy J;male;54;0;0;17463;51.8625;E46;S\n",
      "8;0;3;Palsson, Master. Gosta Leonard;male;2;3;1;349909;21.075;;S\n",
      "9;1;3;Johnson, Mrs. Oscar W (Elisabeth Vilhelmina Berg);female;27;0;2;347742;11.1333;;S\n"
     ]
    }
   ],
   "source": [
    "f = open(\"train_short.csv\")\n",
    "\n",
    "for line in f:\n",
    "    print(line.rstrip())"
   ]
  },
  {
   "cell_type": "markdown",
   "metadata": {},
   "source": [
    "Die Bedeutung der einzelnen Felder:\n",
    "<pre>\n",
    "VARIABLE DESCRIPTIONS:\n",
    "survival        Survival\n",
    "                (0 = No; 1 = Yes)\n",
    "pclass          Passenger Class\n",
    "                (1 = 1st; 2 = 2nd; 3 = 3rd)\n",
    "name            Name\n",
    "sex             Sex\n",
    "age             Age\n",
    "sibsp           Number of Siblings/Spouses Aboard\n",
    "parch           Number of Parents/Children Aboard\n",
    "ticket          Ticket Number\n",
    "fare            Passenger Fare\n",
    "cabin           Cabin\n",
    "embarked        Port of Embarkation\n",
    "                (C = Cherbourg; Q = Queenstown; S = Southampton)\n",
    "\n",
    "SPECIAL NOTES:\n",
    "Pclass is a proxy for socio-economic status (SES)\n",
    " 1st ~ Upper; 2nd ~ Middle; 3rd ~ Lower\n",
    "\n",
    "Age is in Years; Fractional if Age less than One (1)\n",
    " If the Age is Estimated, it is in the form xx.5\n",
    "\n",
    "With respect to the family relation variables (i.e. sibsp and parch)\n",
    "some relations were ignored.  The following are the definitions used\n",
    "for sibsp and parch.\n",
    "\n",
    "Sibling:  Brother, Sister, Stepbrother, or Stepsister of Passenger Aboard Titanic\n",
    "Spouse:   Husband or Wife of Passenger Aboard Titanic (Mistresses and Fiances Ignored)\n",
    "Parent:   Mother or Father of Passenger Aboard Titanic\n",
    "Child:    Son, Daughter, Stepson, or Stepdaughter of Passenger Aboard Titanic\n",
    "\n",
    "Other family relatives excluded from this study include cousins,\n",
    "nephews/nieces, aunts/uncles, and in-laws.  Some children travelled\n",
    "only with a nanny, therefore parch=0 for them.  As well, some\n",
    "travelled with very close friends or neighbors in a village, however,\n",
    "the definitions do not support such relations.\n",
    "</pre>"
   ]
  },
  {
   "cell_type": "markdown",
   "metadata": {},
   "source": [
    "Zunächst wollen wir die Datei lesen und die Daten in die Einzelteile zerlegen. Dazu lesen wir die Datei zeilenweise und bereiten jede Zeile mit der Funktion make_row(s) auf, die einen String (die Zeile) als Parameter erhält und ein Dictionary zurückliefert, das die Attribute und die jeweiligen Werte enthält. Für die erste Zeile sollte das also so aussehen: {\"PassengerId\": 1, \"Survived\": 0, \"Pclass\": 3, \"Name\": \"Braund, Mr. Owen Harris\" , \"Sex\": \"male\", \"Age\": 22, \"SibSp\": 1, \"Parch\": 0, \"Ticket\": \"A/5 21171\", \"Fare\": 7.25, \"Cabin\": \"\", \"Embarked\": \"S\"}"
   ]
  },
  {
   "cell_type": "code",
   "execution_count": null,
   "metadata": {
    "collapsed": false
   },
   "outputs": [],
   "source": [
    "def make_row(s):\n",
    "    d = {}\n",
    "    ...\n",
    "    return d\n",
    "\n",
    "print(make_row('1;0;3;Braund, Mr. Owen Harris;male;22;1;0;A/5 21171;7.25;;S'))"
   ]
  },
  {
   "cell_type": "markdown",
   "metadata": {},
   "source": [
    "Das eigentliche Einlesen der Daten erledingt die Funktion read_data(filename), die den Namen der Datei als Parameter erhält und eine Liste von Dictionaries (ens je Zeile) zurück liefert. Achtung, die erste Zeile enthält die Spaltennamen, sie muss ignoriert und darf nicht an die Funktion make_row gegeben werden."
   ]
  },
  {
   "cell_type": "code",
   "execution_count": null,
   "metadata": {
    "collapsed": true
   },
   "outputs": [],
   "source": [
    "def read_data(filename):\n",
    "    l = []\n",
    "    ...\n",
    "    return l\n",
    "\n",
    "l = read_data(\"train_short.csv\")\n",
    "print(l[0])"
   ]
  },
  {
   "cell_type": "markdown",
   "metadata": {},
   "source": [
    "## Auswertung\n",
    "Zunächst machen wir ein bisschen Statistik. Wie ist das mittlere Alter der Überlebenden (Survived == 1) und das der Opfer ?"
   ]
  },
  {
   "cell_type": "code",
   "execution_count": null,
   "metadata": {
    "collapsed": false
   },
   "outputs": [],
   "source": [
    "# Nur die, für die das Alter bekannt ist\n",
    "\n",
    "alle = []\n",
    "for p in l:\n",
    "    if (len(p[\"Age\"]) > 0):\n",
    "        alle.append(p)\n",
    "        \n",
    "sum_survived = 0.0\n",
    "count_survived = 0\n",
    "sum_dead = 0.0\n",
    "count_dead = 0\n",
    "\n",
    "for pers in alle:\n",
    "    ...\n",
    "\n",
    "print(\"Mean Age survived %d\" %(sum_survived/count_survived))\n",
    "print(\"Mead Age dead %d\" %(sum_dead/count_dead))\n",
    "    "
   ]
  },
  {
   "cell_type": "markdown",
   "metadata": {},
   "source": [
    "Schauen wir uns mal an, ob Frauen häufiger überleben als Männer. Dazu gruppieren wir erstmal nach Männern und Frauen: Wir erzeugen uns jeweils eine Liste der Männer und der Frauen"
   ]
  },
  {
   "cell_type": "code",
   "execution_count": null,
   "metadata": {
    "collapsed": false
   },
   "outputs": [],
   "source": [
    "men = []\n",
    "women = []\n",
    "for pers in l:\n",
    "    ...\n",
    "print(\"%d Männer\" %len(men))\n",
    "print(\"%d Frauen\" %len(women))\n"
   ]
  },
  {
   "cell_type": "markdown",
   "metadata": {},
   "source": [
    "Und schauen dann, wieviel Prozent jeweils überlebt haben."
   ]
  },
  {
   "cell_type": "code",
   "execution_count": null,
   "metadata": {
    "collapsed": false
   },
   "outputs": [],
   "source": [
    "men_survived = 0\n",
    "for pers in men:\n",
    "    ...\n",
    "\n",
    "women_survived = 0\n",
    "for pers in women:\n",
    "    ...\n",
    "    \n",
    "print(\"%d Prozent der Frauen haben überlebt\" %(100*women_survived/len(women)))\n",
    "print(\"%d Prozent der Männer haben überlebt\" %(100*men_survived/len(men)))"
   ]
  },
  {
   "cell_type": "markdown",
   "metadata": {},
   "source": [
    "Und wieviel Prozent der Kinder (unter 15 Jahren) und der Greise (über 70 Jahre) verglichen mit der Gesamtpopulation"
   ]
  },
  {
   "cell_type": "code",
   "execution_count": null,
   "metadata": {
    "collapsed": true
   },
   "outputs": [],
   "source": [
    "childs_survived = 0\n",
    "childs_dead = 0\n",
    "oldies_survived = 0\n",
    "oldies_dead = 0\n",
    "all_survived = 0\n",
    "all_dead = 0\n",
    "\n",
    "...\n"
   ]
  },
  {
   "cell_type": "markdown",
   "metadata": {},
   "source": [
    "Irgendwann wird die Programmiererei auf diese Weise mühsam ...\n",
    "Könnte man das nicht einfacher machen ?\n",
    "\n",
    "Erinnern wir uns an die erste Volkszählung mit den Lochkartenmaschinen. Da gab es Maschinen zum Filtern, zum Gruppieren, zum Zählen usw. Damit konnte man einen Stapel Lochkarten Schritt für Schritt bearbeiten.\n",
    "\n",
    "Nehmen wir unsere erste Aufgabe: Wie ist das mittlere Alter der Überlebenden (Survived == 1) und das der Opfer ?\n",
    "Hier könnten wir zunächst filtern (Überlebende/Opfer) und dann summieren (Alter) und dann zählen und den Mittelwert ausrechnen."
   ]
  },
  {
   "cell_type": "code",
   "execution_count": null,
   "metadata": {
    "collapsed": false
   },
   "outputs": [],
   "source": [
    "def filter_value(dataset,param,value):\n",
    "    ...\n",
    "\n",
    "def sum_value(dataset,param):\n",
    "    ...\n",
    "    \n",
    "def count(dataset):\n",
    "    return len(dataset)"
   ]
  },
  {
   "cell_type": "code",
   "execution_count": null,
   "metadata": {
    "collapsed": false
   },
   "outputs": [],
   "source": [
    "survived = filter_value(alle,\"Survived\",\"1\")\n",
    "dead = filter_value(alle,\"Survived\",\"0\")\n",
    "\n",
    "sum_age_survived = sum_value(survived,\"Age\")\n",
    "sum_age_dead = sum_value(dead,\"Age\")\n",
    "\n",
    "count_survived = count(survived)\n",
    "count_dead = count(dead)\n",
    "\n",
    "print(\"Mean Age survived %d\" %(sum_age_survived/count_survived))\n",
    "print(\"Mead Age dead %d\" %(sum_age_dead/count_dead))\n"
   ]
  },
  {
   "cell_type": "markdown",
   "metadata": {},
   "source": [
    "Auch wenn das vielleicht auf den ersten Blick nicht viel einfacher aussieht, als vorhin, ist es das doch:\n",
    "Man braucht eigentlich nicht mehr wirklich zu programmieren (also beispielsweise keine Schleifen mehr zu erstellen usw.) sondern \"nur noch\" die einzelnen Funktionen miteinander zu verbinden. Das geht auch noch einfacher ... aber immerhin, eine Verbesserung ist das schon."
   ]
  },
  {
   "cell_type": "markdown",
   "metadata": {},
   "source": [
    "Man kann hier sehr viel mehr machen, siehe etwa das Tutorial bei Kaggle https://www.kaggle.io/svf/198371/166ea2e9c1074ca9cd2447c7ee27cf10/__results__.html#introduction\n",
    "\n",
    "Oder im fünften und sechsten Semester in der KI/Big Data Vorlesung ;-)"
   ]
  },
  {
   "cell_type": "code",
   "execution_count": null,
   "metadata": {
    "collapsed": true
   },
   "outputs": [],
   "source": []
  }
 ],
 "metadata": {
  "kernelspec": {
   "display_name": "Python 3",
   "language": "python",
   "name": "python3"
  },
  "language_info": {
   "codemirror_mode": {
    "name": "ipython",
    "version": 3
   },
   "file_extension": ".py",
   "mimetype": "text/x-python",
   "name": "python",
   "nbconvert_exporter": "python",
   "pygments_lexer": "ipython3",
   "version": "3.4.3"
  }
 },
 "nbformat": 4,
 "nbformat_minor": 0
}
