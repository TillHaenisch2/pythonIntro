{
 "cells": [
  {
   "cell_type": "markdown",
   "metadata": {},
   "source": [
    "# Schleifen und Verzweigungen\n",
    "\n",
    "Schleifen und Verzweigungen sind die grundlegenden Kontrollstrukturen der meisten Programmiersprachen (bei funktionalen Programmiersprachen werden die Schleifen durch Rekursion ersetzt, dazu später mehr). \n",
    "\n",
    "Aus den einfachen Anweisungen und diesen Kontrollstrukturen lassen sich beliebig komplexe Programme aufbauen (bei der prozeduralen Programmierung kommen dann noch Prozeduren oder Funktionen als Strukturierungsmittel dazu, diese werden im nächsten Kapitel behandelt).\n",
    "\n",
    "Eine Verzweigung führt einen Block abhängig von einer Bedingung aus. In den meisten Programmiersprachen wird dieses Verhalten durch die if-Anweisung umgesetzt: Ist die angegebene Bedingung true, wird der folgende Block ausgeführt, andernfalls der optionale else-Teil der Anweisung. Dadurch wird die Programmausführung abhängig von den Daten. Dies erlaubt eine enorme Flexiblität von Programmen, macht die Suche nach Fehlern und insbesondere den formalen Beweis der Korrektheit eines Programms aufgrund der Vielzahl der möglichen Fälle aber komplex bis unmöglich."
   ]
  },
  {
   "cell_type": "code",
   "execution_count": null,
   "metadata": {
    "collapsed": false
   },
   "outputs": [],
   "source": [
    "val = 11\n",
    "if (val > 0):\n",
    "    print(\"Größer Null\")\n",
    "else:\n",
    "    print(\"Kleiner Null\")"
   ]
  },
  {
   "cell_type": "markdown",
   "metadata": {},
   "source": [
    "In python beginnt ein Block mit einem Doppelpunkt am Ende der vorigen Zeile. Die Anweisungen des Blocks werden dann eingerückt. Üblich sind hier vier Leerzeichen oder ein Tab. Der Block endet, wenn die Einrückung endet.\n",
    "\n",
    "Diese Art der Kennzeichnung eines Blocks ist komplett anders, als bei praktisch allen anderen Programmiersprachen. In den meisten sprachen gibt es spezielle Schlüsselwörter (BEGIN/END) oder Symbole (etwa { und }) für Blockbeginn und Ende.\n",
    "\n",
    "Um die Struktur eines Programms deutlich zu machen, wird aber auch bei anderen Sprachen in der Regel eingerückt, in C oder Java etwa so:\n",
    "<pre>\n",
    "if (val > 0) {\n",
    "    System.out.println(\"Größer Null\");\n",
    "}\n",
    "</pre>\n",
    "\n",
    "In python wird die Einrückung verbindlich gemacht und die speziellen Kennzeichnungen weggelassen."
   ]
  },
  {
   "cell_type": "markdown",
   "metadata": {},
   "source": [
    "Ein Beispiel, die Berechnung der (reellen) Lösungen einer quadratischen Gleichung:\n",
    "Braucht man mehr als zwei Varianten (eine Bedingung), kann mit elif eine weietre Bedingung geprüft werden.\n",
    "\n",
    "Braucht man Funktionen aus anderen Modulen (eine Art Bibliotheken, die Lösungen für gängige Probleme enthalten, später mehr),\n",
    "muß man die Bibliothek mit import einbinden, hier math."
   ]
  },
  {
   "cell_type": "code",
   "execution_count": null,
   "metadata": {
    "collapsed": false
   },
   "outputs": [],
   "source": [
    "import math\n",
    "# 2x^2-3x+1=0\n",
    "a = 2\n",
    "b = -3\n",
    "c = 1\n",
    "\n",
    "d = b*b - 4*a*c\n",
    "\n",
    "if (d > 0):\n",
    "    x1 = (-b + math.sqrt(d))/(2*a)\n",
    "    x2 = (-b - math.sqrt(d))/(2*a)\n",
    "    print(\"Zwei reelle Lösungen\")\n",
    "    print(x1)\n",
    "    print(x2)\n",
    "elif (d == 0):\n",
    "    x = -b/(2*a)\n",
    "    print(\"Eine relle Lösung\")\n",
    "    print(x)\n",
    "else:\n",
    "    print(\"Keine relle Lösung\")\n"
   ]
  },
  {
   "cell_type": "markdown",
   "metadata": {},
   "source": [
    "Ergänzen Sie das folgende Programm:"
   ]
  },
  {
   "cell_type": "code",
   "execution_count": null,
   "metadata": {
    "collapsed": false
   },
   "outputs": [],
   "source": [
    "temp = 20\n",
    "\n",
    "if (temp < 0):\n",
    "    print(\"Kalt\")\n",
    "elif (temp < 15):\n",
    "    print()\n",
    "elif (temp ):\n",
    "    print(\"warm\")\n",
    "else:\n",
    "    print(\"heiß\")"
   ]
  },
  {
   "cell_type": "markdown",
   "metadata": {},
   "source": [
    "Überlegen Sie sich bei den folgenden Zellen das Ergebnis, bevor Sie sie zur Kontrolle ausführen:"
   ]
  },
  {
   "cell_type": "code",
   "execution_count": null,
   "metadata": {
    "collapsed": false
   },
   "outputs": [],
   "source": [
    "if 6 > 7:\n",
    "   print(\"Yep\")\n",
    "else:\n",
    "   print(\"Nope\")"
   ]
  },
  {
   "cell_type": "code",
   "execution_count": null,
   "metadata": {
    "collapsed": false
   },
   "outputs": [],
   "source": [
    "x = 3/5\n",
    "if (x > 0):\n",
    "    print(\"Größer null\")"
   ]
  },
  {
   "cell_type": "markdown",
   "metadata": {},
   "source": [
    "Schreiben Sie ein Programm, das \"Bestanden\" ausgibt, falls die Variable Punkte einen Wert größer gleich 50 hat"
   ]
  },
  {
   "cell_type": "code",
   "execution_count": null,
   "metadata": {
    "collapsed": true
   },
   "outputs": [],
   "source": [
    "punkte = "
   ]
  },
  {
   "cell_type": "code",
   "execution_count": null,
   "metadata": {
    "collapsed": true
   },
   "outputs": [],
   "source": []
  },
  {
   "cell_type": "markdown",
   "metadata": {},
   "source": [
    "In einer Schleife wird ein Block mehrfach ausgeführt. In den meisten Programmiersprachen gibt es verschiedene Schleifentypen. Die einfachsten Schleifentypen werden solange ausgeführt, wie eine Bedingung erfüllt ist. Bei der while-Schleife wird die Bedingung vor jeder Ausführung geprüft. \n",
    "\n",
    "Ist vorab bekannt, für welche Elemente eine Schleife ausgeführt werden soll, wird eine spezielle Schleifenkonstruktion,  for-Schleife, verwendet. Dies ist die am häufigsten verwendete Schleifenkonstruktion.\n",
    "\n",
    "Die for-Schleife führt einen Block für jedes Element einer Liste einmal aus. Eine Liste besteht aus mehreren, durch Komma getrennten Werten in eckigen Klammern."
   ]
  },
  {
   "cell_type": "code",
   "execution_count": null,
   "metadata": {
    "collapsed": false
   },
   "outputs": [],
   "source": [
    "for i in [1,2,3]:\n",
    "    print(i*i)"
   ]
  },
  {
   "cell_type": "markdown",
   "metadata": {},
   "source": [
    "in prüft auch, ob einer Liste ein bestimmtes Element enthält:"
   ]
  },
  {
   "cell_type": "code",
   "execution_count": null,
   "metadata": {
    "collapsed": false
   },
   "outputs": [],
   "source": [
    "l = [1,2,3]\n",
    "if (1 in l):\n",
    "    print(\"da\")"
   ]
  },
  {
   "cell_type": "code",
   "execution_count": null,
   "metadata": {
    "collapsed": true
   },
   "outputs": [],
   "source": [
    "Eine Liste mit einer Folge von Zahlen kann man einfach mit der range() Funktion erzeugen:"
   ]
  },
  {
   "cell_type": "code",
   "execution_count": null,
   "metadata": {
    "collapsed": false
   },
   "outputs": [],
   "source": [
    "for i in range(5):\n",
    "    print(i)"
   ]
  },
  {
   "cell_type": "markdown",
   "metadata": {},
   "source": [
    "Man kann auch Anfang und Intervall angeben:"
   ]
  },
  {
   "cell_type": "code",
   "execution_count": null,
   "metadata": {
    "collapsed": false
   },
   "outputs": [],
   "source": [
    "for i in range(1,5):\n",
    "    print(i)"
   ]
  },
  {
   "cell_type": "code",
   "execution_count": null,
   "metadata": {
    "collapsed": false
   },
   "outputs": [],
   "source": [
    "for i in range(1,10,2):\n",
    "    print(i)"
   ]
  },
  {
   "cell_type": "markdown",
   "metadata": {},
   "source": [
    "Schreiben Sie ein Programm, das mit einer for-Schleife die folgende Ausgabe erzeugt:\n",
    "<pre>\n",
    "0\n",
    "2\n",
    "4\n",
    "6\n",
    "8\n",
    "10\n",
    "Ende !\n",
    "</pre>"
   ]
  },
  {
   "cell_type": "code",
   "execution_count": null,
   "metadata": {
    "collapsed": true
   },
   "outputs": [],
   "source": []
  },
  {
   "cell_type": "markdown",
   "metadata": {},
   "source": [
    "Schreiben Sie ein Programm, das mit einer for-Schleife die folgende Ausgabe erzeugt:\n",
    "<pre>\n",
    "10\n",
    "8\n",
    "6\n",
    "4\n",
    "2\n",
    "0\n",
    "Ende !\n",
    "</pre>"
   ]
  },
  {
   "cell_type": "markdown",
   "metadata": {},
   "source": [
    "Das funktioniert nicht nur mit Zahlen, sondern mit beliebigen Typen, etwa mit Strings (später mehr):"
   ]
  },
  {
   "cell_type": "code",
   "execution_count": null,
   "metadata": {
    "collapsed": false
   },
   "outputs": [],
   "source": [
    "for name in [\"Hans\",\"Susi\",\"Klaus\"]:\n",
    "    print(\"Hallo \" + name)"
   ]
  },
  {
   "cell_type": "markdown",
   "metadata": {},
   "source": [
    "Ein String kann als eine Liste von Buchstaben betrachtet werden:"
   ]
  },
  {
   "cell_type": "code",
   "execution_count": null,
   "metadata": {
    "collapsed": false
   },
   "outputs": [],
   "source": [
    "for c in \"Hello world\":\n",
    "    print(c)"
   ]
  },
  {
   "cell_type": "markdown",
   "metadata": {},
   "source": [
    "Ergänzen Sie das folgende Programm, so dass die Vokale in s gezählt und ausgegeben werden. Gehen Sie dabei davon azus, dass s nur Kleinbuchstaben enthält."
   ]
  },
  {
   "cell_type": "code",
   "execution_count": null,
   "metadata": {
    "collapsed": true
   },
   "outputs": [],
   "source": [
    "s = \"Hello world\"\n",
    "vokale = 0\n",
    "for c in s:\n",
    "    if (c in ):\n",
    "        \n",
    "print(vokale)"
   ]
  },
  {
   "cell_type": "markdown",
   "metadata": {},
   "source": [
    "Mit einer while-Schleife lassen sich Schleifen realisieren, bei denen vorher noh nicht klar ist, wieviele\n",
    "Durchläufe benötigt werden. Die Syntax ist ähnlich wie bei einer Verzweigung:"
   ]
  },
  {
   "cell_type": "code",
   "execution_count": null,
   "metadata": {
    "collapsed": false
   },
   "outputs": [],
   "source": [
    "i = 0\n",
    "while (i < 5):\n",
    "    i = i + 1\n",
    "    print(i)"
   ]
  },
  {
   "cell_type": "markdown",
   "metadata": {},
   "source": [
    "Schreiben Sie ein Programm, das alle Zahlen > 0 bis zur Zahl \"ende\" aufsummiert und ausgibt:"
   ]
  },
  {
   "cell_type": "code",
   "execution_count": null,
   "metadata": {
    "collapsed": true
   },
   "outputs": [],
   "source": [
    "ende = 10\n",
    "summe = 0\n",
    "\n",
    "while ():"
   ]
  },
  {
   "cell_type": "markdown",
   "metadata": {},
   "source": [
    "Schreiben Sie ein Programm, das mit einer while-Schleife die folgende Ausgabe erzeugt:\n",
    "<pre>\n",
    "0\n",
    "2\n",
    "4\n",
    "6\n",
    "8\n",
    "10\n",
    "Ende !\n",
    "</pre>"
   ]
  },
  {
   "cell_type": "code",
   "execution_count": null,
   "metadata": {
    "collapsed": true
   },
   "outputs": [],
   "source": []
  },
  {
   "cell_type": "markdown",
   "metadata": {},
   "source": [
    "## Zusammenfassung\n",
    "Mit Schleifen und Verzweigungen ist es möglich, komplexe Algorithmen zu programmieren. Was jetzt noch fehlt, ist eine Möglichkeit, Programme zu schreiben, die mit einer variablen Menge von Daten ausgeführt werden können. Mehr dazu im nächsten Abschnitt."
   ]
  },
  {
   "cell_type": "code",
   "execution_count": null,
   "metadata": {
    "collapsed": true
   },
   "outputs": [],
   "source": []
  }
 ],
 "metadata": {
  "kernelspec": {
   "display_name": "Python 3",
   "language": "python",
   "name": "python3"
  },
  "language_info": {
   "codemirror_mode": {
    "name": "ipython",
    "version": 3
   },
   "file_extension": ".py",
   "mimetype": "text/x-python",
   "name": "python",
   "nbconvert_exporter": "python",
   "pygments_lexer": "ipython3",
   "version": "3.4.3"
  }
 },
 "nbformat": 4,
 "nbformat_minor": 0
}
