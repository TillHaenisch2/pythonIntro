{
 "cells": [
  {
   "cell_type": "markdown",
   "metadata": {},
   "source": [
    "# Musterklausur Grundlagen Programmierung 2016\n",
    "\n",
    "Bitte die folgenden Felder mit Organisationsdaten ausfüllen !\n",
    "Maximal 40 Punkte, 80 Minuten\n",
    "Die Punktzahl (multipliziert mit zwei) entspricht etwa der geschätzten Bearbeitungszeit"
   ]
  },
  {
   "cell_type": "code",
   "execution_count": 1,
   "metadata": {
    "collapsed": true
   },
   "outputs": [],
   "source": [
    "Matrikelnummer = \"\"\n",
    "Kurs = \"\""
   ]
  },
  {
   "cell_type": "markdown",
   "metadata": {},
   "source": [
    "## Aufgabe 1: Algorithmus (5 Punkte)\n",
    "Was versteht man unter einem Algorithmus ?"
   ]
  },
  {
   "cell_type": "markdown",
   "metadata": {},
   "source": [
    "Antwort: "
   ]
  },
  {
   "cell_type": "markdown",
   "metadata": {},
   "source": [
    "## Aufgabe 2: Funktionen (5 Punkte)\n",
    "Welche Vorteile ergeben sich beim Programmieren durch die Verwendung von Funktionen?"
   ]
  },
  {
   "cell_type": "markdown",
   "metadata": {},
   "source": [
    "Antwort:"
   ]
  },
  {
   "cell_type": "markdown",
   "metadata": {},
   "source": [
    "## Aufgabe 3: Ninety-nine bottles of beer (10 Punkte)\n",
    "In Amerika gibt es ein Volkslied Ninety-nine bottles of beer, das geht so:<p>\n",
    "99 bottles of beer on the wall,\n",
    "99 bottles of beer.\n",
    "If one of those bottles should happen to fall\n",
    "\n",
    "98 bottles of beer on the wall,\n",
    ".....\n",
    "\n",
    "One (last) bottle of beer on the wall,\n",
    "One (last) bottle of beer.\n",
    "Take it down, pass it around,\n",
    "No (more) bottles of beer on the wall.\n",
    "\n",
    "Schreiben Sie ein Programm, das den Liedtext ausgibt.<p>\n",
    "Achtung: Die Lösung, die den kompletten Text mit einer Vielzahl (oder einer besonders umfangreichen) print-Anweisung explizit ausgibt, gibt keine Punkte. Verwenden Sie die Mittel der Programmierung, um ein möglichst kurzes Programm zu erhalten."
   ]
  },
  {
   "cell_type": "code",
   "execution_count": 1,
   "metadata": {
    "collapsed": false
   },
   "outputs": [
    {
     "name": "stdout",
     "output_type": "stream",
     "text": [
      "One (last) bottle of beer on the wall,\n",
      "One (last) bottle of beer.\n",
      "Take it down, pass it around,\n",
      "No (more) bottles of beer on the wall.\n"
     ]
    }
   ],
   "source": [
    "bottles = 99\n",
    "\n",
    "print(\"One (last) bottle of beer on the wall,\")\n",
    "print(\"One (last) bottle of beer.\")\n",
    "print(\"Take it down, pass it around,\")\n",
    "print(\"No (more) bottles of beer on the wall.\")"
   ]
  },
  {
   "cell_type": "markdown",
   "metadata": {},
   "source": [
    "## Aufgabe 2: Palindrome (15 Punkte)\n",
    "Ein Palindrom ist ein Wort, das von vorne und von hinten gelesen gleich lautet. Beispiele sind etwa Otto, Anna und Dienstmannamtsneid. Wir nehmen\n",
    "<pre>\n",
    "p = “regallager“\n",
    "</pre>\n",
    "als Beispiel (Gross- und Kleinschreibung dürfen Sie ignorieren).\n"
   ]
  },
  {
   "cell_type": "markdown",
   "metadata": {},
   "source": [
    "Schreiben Sie eine Funktion check_palindrom(s), die überprüft, ob der als Parameter übergebene String ein Palindrom ist. <p>(5 Punkte) "
   ]
  },
  {
   "cell_type": "code",
   "execution_count": 5,
   "metadata": {
    "collapsed": false
   },
   "outputs": [
    {
     "name": "stdout",
     "output_type": "stream",
     "text": [
      "True\n"
     ]
    }
   ],
   "source": [
    "p = \"regallager\"\n",
    "\n",
    "def check_palindrom(s):\n",
    "    return True\n",
    "    \n",
    "print(check_palindrom(p))\n",
    "# Sollte True ergeben"
   ]
  },
  {
   "cell_type": "markdown",
   "metadata": {},
   "source": [
    "Erweitern Sie Ihr Programm um die Funktion palindrom_wert, die eine float-Zahl zurückliefert, die den Schwierigkeitsgrad eines Palindroms bewertet. Diesen definieren wir als das Verhältnis aus der Zahl der Konsonanten eines Worts zur Zahl der Buchstaben, im Beispiel also 6/10=0,6.\n",
    "Hinweis: Gehen Sie der Einfachheit halber davon aus, dass alle Nicht-Vokale Konsonanten sind, das ist vermutlich einfacher zu prüfen.<p>(5 Punkte)\n"
   ]
  },
  {
   "cell_type": "code",
   "execution_count": 7,
   "metadata": {
    "collapsed": false
   },
   "outputs": [
    {
     "name": "stdout",
     "output_type": "stream",
     "text": [
      "0\n"
     ]
    }
   ],
   "source": [
    "def palindrom_wert(s):\n",
    "    vokale = \"aeiou\"\n",
    "    return 0\n",
    "\n",
    "print(palindrom_wert(p))\n",
    "# Sollte 0.6 ergeben"
   ]
  },
  {
   "cell_type": "markdown",
   "metadata": {},
   "source": [
    "Erweitern Sie Ihr Programm so, dass nicht Wort-Palindrome, sondern Satz-Palindrome geprüft und bewertet werden. Ein Satz-Palindrom ist ein Satz, der von vorne und von hinten gelesen gleich lautet. Beispiele sind etwa „Eine Note betone nie !“, oder „Pur ist Saft fast Sirup“. Wir verwenden\n",
    "<pre>\n",
    "p = “sei fein, nie fies“\n",
    "</pre>\n",
    "als Beispiel.\n",
    "\n",
    "Achtung: Leer- und Satzzeichen werden hierbei ignoriert !\n",
    "<p>\n",
    "(5 Punkte)"
   ]
  },
  {
   "cell_type": "code",
   "execution_count": 9,
   "metadata": {
    "collapsed": false
   },
   "outputs": [
    {
     "name": "stdout",
     "output_type": "stream",
     "text": [
      "True\n"
     ]
    }
   ],
   "source": [
    "p = \"sei fein, nie fies\"\n",
    "\n",
    "def check_palindrom_satz(s):\n",
    "    return True\n",
    "\n",
    "print(check_palindrom_satz(p))\n",
    "# Sollte True sein"
   ]
  },
  {
   "cell_type": "markdown",
   "metadata": {},
   "source": [
    "<img src=\"https://www.azu-bildung.ch/images/content/news/keep-calm-and-good-luck-58.png\">"
   ]
  }
 ],
 "metadata": {
  "kernelspec": {
   "display_name": "Python 3",
   "language": "python",
   "name": "python3"
  },
  "language_info": {
   "codemirror_mode": {
    "name": "ipython",
    "version": 3
   },
   "file_extension": ".py",
   "mimetype": "text/x-python",
   "name": "python",
   "nbconvert_exporter": "python",
   "pygments_lexer": "ipython3",
   "version": "3.4.3"
  }
 },
 "nbformat": 4,
 "nbformat_minor": 0
}
