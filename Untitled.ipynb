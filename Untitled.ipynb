{
 "cells": [
  {
   "cell_type": "code",
   "execution_count": 1,
   "metadata": {
    "collapsed": true
   },
   "outputs": [],
   "source": [
    "l = open(\"short.txt\")"
   ]
  },
  {
   "cell_type": "code",
   "execution_count": 2,
   "metadata": {
    "collapsed": false
   },
   "outputs": [
    {
     "name": "stdout",
     "output_type": "stream",
     "text": [
      "Ihr naht euch wieder schwankende Gestalten\n",
      "\n",
      "Die frueh sich einst dem trueben Blick gezeigt\n",
      "\n",
      "Versuch ich wohl euch diesmal festzuhalten\n",
      "\n",
      "Fuehl ich mein Herz noch jenem Wahn geneigt\n",
      "\n",
      "Ihr draengt euch zu  nun gut so moegt ihr walten\n",
      "\n",
      "Wie ihr aus Dunst und Nebel um mich steigt\n",
      "\n",
      "Mein Busen fuehlt sich jugendlich erschuettert\n",
      "\n",
      "Vom Zauberhauch der euren Zug umwittert\n",
      "\n",
      "\n",
      "\n",
      "Ihr bringt mit euch die Bilder froher Tage\n",
      "\n"
     ]
    }
   ],
   "source": [
    "for line in l:\n",
    "    print(line)"
   ]
  },
  {
   "cell_type": "code",
   "execution_count": null,
   "metadata": {
    "collapsed": true
   },
   "outputs": [],
   "source": []
  }
 ],
 "metadata": {
  "kernelspec": {
   "display_name": "Python 3",
   "language": "python",
   "name": "python3"
  },
  "language_info": {
   "codemirror_mode": {
    "name": "ipython",
    "version": 3
   },
   "file_extension": ".py",
   "mimetype": "text/x-python",
   "name": "python",
   "nbconvert_exporter": "python",
   "pygments_lexer": "ipython3",
   "version": "3.4.3"
  }
 },
 "nbformat": 4,
 "nbformat_minor": 0
}
