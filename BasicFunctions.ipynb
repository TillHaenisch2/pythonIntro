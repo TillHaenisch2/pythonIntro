{
 "cells": [
  {
   "cell_type": "markdown",
   "metadata": {},
   "source": [
    "# Funktionen\n",
    "\n",
    "Dies ist der erste Teil zum Thema Funktionen, in dem es darum geht, wie man eine einfache Funktion programmiert und\n",
    "Funktionen verwendet. Funktionen sind ein umfangreiches Therma, wir werden später noch einmal ausführlicher darauf zurückkommen.\n",
    "\n",
    "Funktionen erlauben es, Programme zu strukturieren. So können Funktionalitäten an einer Stelle implementiert und an anderen Stellen verwendet werden. Dadurch werden erstens Redundanzen vermieden, zweitens werden die Programme übersichtlicher.\n",
    "Eine Funktion muß deklariert werden, das heisst, ihre Schnittstelle nach außen wird beschrieben. Dazu hat  Funktion einen Namen und eine Liste von Parametern. Dies sind die Informationen, die zur Verwendung der Funktion benötigt werden.\n",
    "\n",
    "Es ist wichtig, einen aussagekräftigen Namen zu verwenden, um die Programmteile, die eine Funktion verwenden \"lesbar\" zu machen. Die Implementierung einer Funktion besteht aus einem Block. \n",
    "\n",
    "Die return-Anweisung dient dazu, einen Wert zurückzuliefern. "
   ]
  },
  {
   "cell_type": "markdown",
   "metadata": {},
   "source": [
    "Eine sehr einfache Funktion ist das folgende Beispiel, die \"Hello world\"-Funktion:"
   ]
  },
  {
   "cell_type": "code",
   "execution_count": null,
   "metadata": {
    "collapsed": false
   },
   "outputs": [],
   "source": [
    "def hello_world():\n",
    "    print(\"Hello world!\")"
   ]
  },
  {
   "cell_type": "markdown",
   "metadata": {},
   "source": [
    "Die Definition einer Funktion beginnt mit \"def\". Darauf folgt der Name der Funktion und eine Liste von Parametern in Klammern. Obwohl unsere Funktion keine Parameter (also Werte, die die Funktion zur Ausführung benötigt) hat, müssen die Klammern angegeben werden. Nur die Liste ist eben leer.\n",
    "\n",
    "Die Funktion wird mit ihrem Namen aufgerufen, darauf folgen die Parameter, hier wieder eine leere Liste:"
   ]
  },
  {
   "cell_type": "code",
   "execution_count": null,
   "metadata": {
    "collapsed": false
   },
   "outputs": [],
   "source": [
    "hello_world()"
   ]
  },
  {
   "cell_type": "markdown",
   "metadata": {},
   "source": [
    "Funktionen, die keine Parameter haben und keinen Wert zurückliefern, sind in der Regel eher nutzlos ...\n",
    "Insofern ist hello_world kein besonders gutes Beispiel für eine Funktion. Realistischer ist das folgende Beispiel. Die Funktion increment nimmt den Wert des übergebenen Parameters und gibt einen um eins höheren Wert zurück:"
   ]
  },
  {
   "cell_type": "code",
   "execution_count": null,
   "metadata": {
    "collapsed": true
   },
   "outputs": [],
   "source": [
    "def increment(value):\n",
    "    return value + 1"
   ]
  },
  {
   "cell_type": "code",
   "execution_count": null,
   "metadata": {
    "collapsed": false
   },
   "outputs": [],
   "source": [
    "x = 5\n",
    "y = increment(x)\n",
    "print(y)"
   ]
  },
  {
   "cell_type": "markdown",
   "metadata": {},
   "source": [
    "Die Funktion minimum liefert den kleineren der beiden Parameter zurück:"
   ]
  },
  {
   "cell_type": "code",
   "execution_count": null,
   "metadata": {
    "collapsed": true
   },
   "outputs": [],
   "source": [
    "def minimum(a,b):\n",
    "    if (a < b):\n",
    "        return a\n",
    "    else:\n",
    "        return b"
   ]
  },
  {
   "cell_type": "code",
   "execution_count": null,
   "metadata": {
    "collapsed": false
   },
   "outputs": [],
   "source": [
    "print(minimum(3,5))"
   ]
  },
  {
   "cell_type": "markdown",
   "metadata": {},
   "source": [
    "Wie an sieht, kann eine Funktion auch mehrere return-Anweisungen haben. Gebraucht wird diese Möglichkeit nicht zwingend, alternativ läßt sich minimum() auch so formulieren:"
   ]
  },
  {
   "cell_type": "code",
   "execution_count": null,
   "metadata": {
    "collapsed": true
   },
   "outputs": [],
   "source": [
    "def minimum(a,b):\n",
    "    wert = a\n",
    "    if (a < b):\n",
    "        wert = a\n",
    "    else:\n",
    "        wert = b\n",
    "    return wert"
   ]
  },
  {
   "cell_type": "markdown",
   "metadata": {},
   "source": [
    "Oder knapper:"
   ]
  },
  {
   "cell_type": "code",
   "execution_count": null,
   "metadata": {
    "collapsed": true
   },
   "outputs": [],
   "source": [
    "def minimum(a,b):\n",
    "    wert = a\n",
    "    if (b < a):\n",
    "        wert = b\n",
    "    return wert"
   ]
  },
  {
   "cell_type": "markdown",
   "metadata": {},
   "source": [
    "Oft ist allerdings die Version mit mehreren return-Anweisungen übersichtlicher."
   ]
  },
  {
   "cell_type": "markdown",
   "metadata": {},
   "source": [
    "Schreiben Sie die Funktion maximum(a,b), die den größeren der beiden Werte zurück liefert."
   ]
  },
  {
   "cell_type": "code",
   "execution_count": null,
   "metadata": {
    "collapsed": true
   },
   "outputs": [],
   "source": [
    "def maximum(a,b):\n",
    "    "
   ]
  },
  {
   "cell_type": "markdown",
   "metadata": {},
   "source": [
    "Schreiben Sie eine Funktion square(x) die das Quadrat von x berechnet"
   ]
  },
  {
   "cell_type": "code",
   "execution_count": null,
   "metadata": {
    "collapsed": true
   },
   "outputs": [],
   "source": [
    "def square(x):\n",
    "    "
   ]
  },
  {
   "cell_type": "markdown",
   "metadata": {},
   "source": [
    "Schreiben Sie eine Funktion even(n), die True zurücklifert, wenn n eine gerade Zahl ist. Verwenden Sie dazu keine if-Anweisung."
   ]
  },
  {
   "cell_type": "code",
   "execution_count": null,
   "metadata": {
    "collapsed": true
   },
   "outputs": [],
   "source": [
    "def even(n):\n",
    "    "
   ]
  },
  {
   "cell_type": "markdown",
   "metadata": {},
   "source": [
    "Aus der ersten Vorlesung kennen Sie (hoffentlich noch ;-) den Euklid'schen Algorithmus zur Berechnung des größten gemeinsamen Teilers zweier Zahlen. Schreiben Sie eine Funktion ggt, die zwei Zahlen als Parameter erhält und deren GGT gerechnet. Testen Sie diese Funktion mit verschiedenen Eingabewerten. Achten Sie dabei darauf, möglichst alle Möglichkeiten zu prüfen."
   ]
  },
  {
   "cell_type": "code",
   "execution_count": null,
   "metadata": {
    "collapsed": true
   },
   "outputs": [],
   "source": [
    "def ggt(a,b):\n",
    "    "
   ]
  },
  {
   "cell_type": "markdown",
   "metadata": {},
   "source": [
    "Schreiben Sie eine Funktion mean, die den Mittelwert der Elemente einer als Parameter übergebenen Liste berechnet und zurückgibt. Gehen Sie dazu die Liste elementweise durch und addieren die Werte in einer Variable auf. Teilen Sie diesen Wert dann durch die Anzahl der Elemente in der Liste.\n",
    "\n",
    "Gehen Sie bei Ihrer Implementierung davon aus, dass es sich bei den Werten um Zahlen handelt."
   ]
  },
  {
   "cell_type": "code",
   "execution_count": null,
   "metadata": {
    "collapsed": true
   },
   "outputs": [],
   "source": [
    "def mean(l):\n",
    "    "
   ]
  },
  {
   "cell_type": "code",
   "execution_count": null,
   "metadata": {
    "collapsed": true
   },
   "outputs": [],
   "source": [
    "l = [1,5,8,4,2]\n",
    "print(mean(l))"
   ]
  },
  {
   "cell_type": "markdown",
   "metadata": {},
   "source": [
    "Funktionen können sich auch selber aufrufen. Dieses sehr mächtige Konzept nennt sich Rekursion. Manche Probleme lassen sicvh damit viel leichter lösen, als ohne Rekursion.\n",
    "<pre>\n",
    "Die Fakultät einer natürlichen Zahl n ist definiert als\n",
    "n! = 1, falls n == 0\n",
    "n! = n*(n-1)!, falls n > 0\n",
    "</pre>"
   ]
  },
  {
   "cell_type": "code",
   "execution_count": null,
   "metadata": {
    "collapsed": false
   },
   "outputs": [],
   "source": [
    "def fakultaet(n):\n",
    "    if (n == 0):\n",
    "        return 1\n",
    "    else:\n",
    "        return n*fakultaet(n-1)\n",
    "\n",
    "print(fakultaet(5))"
   ]
  },
  {
   "cell_type": "markdown",
   "metadata": {},
   "source": [
    "Wie man sieht, entspricht die Formulierung als Programm ziemlich genau der mathematischen Definition. Programmieren Sie eine Version von fakultaet(n) ohne Rekursion:"
   ]
  },
  {
   "cell_type": "code",
   "execution_count": null,
   "metadata": {
    "collapsed": true
   },
   "outputs": [],
   "source": [
    "def fakultaet(n):\n",
    "    "
   ]
  },
  {
   "cell_type": "markdown",
   "metadata": {},
   "source": [
    "Als Fibonacci Zahlen bezeichnet man die Folge 0,1,1,2,3,5,8,13,21 usw.\n",
    "\n",
    "Die rekursive Definition dieser Folge ist:\n",
    "\n",
    "fib(0) = 0\n",
    "\n",
    "fib(1) = 1\n",
    "\n",
    "fib(n) = fib(n-1) + fib(n-2)\n",
    "\n",
    "Schreiben Sie ein Programm, das diese Folge berechnet und dabei die (rekursive) Funktion fib(n) implementiert."
   ]
  },
  {
   "cell_type": "code",
   "execution_count": null,
   "metadata": {
    "collapsed": true
   },
   "outputs": [],
   "source": [
    "def fib(n):\n",
    "    "
   ]
  },
  {
   "cell_type": "markdown",
   "metadata": {},
   "source": [
    "Wir werden uns später noch ausführlicher mit rekursiven Funktionen beschäftigen."
   ]
  }
 ],
 "metadata": {
  "kernelspec": {
   "display_name": "Python 3",
   "language": "python",
   "name": "python3"
  },
  "language_info": {
   "codemirror_mode": {
    "name": "ipython",
    "version": 3
   },
   "file_extension": ".py",
   "mimetype": "text/x-python",
   "name": "python",
   "nbconvert_exporter": "python",
   "pygments_lexer": "ipython3",
   "version": "3.4.3"
  }
 },
 "nbformat": 4,
 "nbformat_minor": 0
}
