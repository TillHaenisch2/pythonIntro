{
 "cells": [
  {
   "cell_type": "markdown",
   "metadata": {},
   "source": [
    "# Grundlagen\n",
    "In diesem Notebook werden die Grundlagen der Programmierung wiederholt. Im ersten Teil werden Variablen und Datentypen behandelt. Im zweiten und dritten Teil geht es dann um die Struktur von Programmen, also Schleifen, Verzweigungen und Funktionen.\n"
   ]
  },
  {
   "cell_type": "markdown",
   "metadata": {},
   "source": [
    "## Variablen\n",
    "Jeder Ausdruck in python (und in den meiste anderen Sprachen auch) hat einen Datentyp. Die wichtigsten Typen für Zahlen (auf diese wollen wir uns zunächst beschränken) sind int und float. \n",
    "\n",
    "Den Typ eines Ausdrucks oder einer Variable können Sie (falls es Sie interessiert ;-) mit der Funktion type() herausfinden:"
   ]
  },
  {
   "cell_type": "code",
   "execution_count": 19,
   "metadata": {
    "collapsed": false
   },
   "outputs": [
    {
     "name": "stdout",
     "output_type": "stream",
     "text": [
      "3\n"
     ]
    }
   ],
   "source": [
    "a=3\n",
    "type(a)\n",
    "print(a)"
   ]
  },
  {
   "cell_type": "markdown",
   "metadata": {},
   "source": [
    "Auch ohne (explizite) Verwendung einer Variablen hat der Ausdruck einen definierten Typ:"
   ]
  },
  {
   "cell_type": "code",
   "execution_count": null,
   "metadata": {
    "collapsed": false
   },
   "outputs": [],
   "source": [
    "type(3)"
   ]
  },
  {
   "cell_type": "code",
   "execution_count": null,
   "metadata": {
    "collapsed": false
   },
   "outputs": [],
   "source": [
    "type(54545232536354325466254254364362452635)"
   ]
  },
  {
   "cell_type": "markdown",
   "metadata": {},
   "source": [
    "int stellt eine ganze Zahl dar. Bei den meisten Programmiersprachen muss je nach Größe der Zahl ein entsprechender Datentyp verwendet werden, in Java hat ein int etwa eine Größe von 32 bit, long entsprechend 64 bit, noch größere Zahlen sind nicht (direkt) darstellbar.\n",
    "\n",
    "float stellt eine Fließkommazahl mit einer Größe von 32 bit dar (double entsprechend 64 bit)."
   ]
  },
  {
   "cell_type": "code",
   "execution_count": null,
   "metadata": {
    "collapsed": false
   },
   "outputs": [],
   "source": [
    "pi = 3.1415926\n",
    "type(pi)"
   ]
  },
  {
   "cell_type": "markdown",
   "metadata": {},
   "source": [
    "Eine Variable stellt letztlich einen Verweis auf eine bestimmte Stelle im Hauptspeicher dar. Um die konkrete Zuordnung, also, welche Variable wo gespeichert wird, brauchen Sie sich nicht zu kümmern.\n",
    "\n",
    "Um Variablen unterscheiden zu können, haben diese einen Namen. Der Name ist eine Folge von Buchstaben und Zahlen (das erste Zeichen muss ein Buchstabe oder _ sein - im Allgemeinen beschränkt man sich hier aber auf Buchstaben). Die Länge eines Variablennamens ist nicht beschränkt, man kann also Namen wählen, die dem Leser eines Programms klar machen, was der Inhalt dieser Variable bedeutet. Versteht man die Bedeutung der Variablen, dann hat man im allgemeinen auch gute Chancen, das Programm zu verstehen. Man spart sich also auf diese Weise viel Dokumentation (dem Programmierer) oder Nachdenken (dem Leser).\n",
    "\n",
    "Der Datentyp einer Variable wird bei der Zuweisung festgelegt und kann bei einer weiteren Zuweisung geändert werden. Das nennt man strenge (jede Variable hat einen Typ und kann nur in für diesen Datentyp sinnvoller Weise verwendet werden) dynamische (der Type kann sich durch eine Zuweisung ändern) Typisierung."
   ]
  },
  {
   "cell_type": "code",
   "execution_count": null,
   "metadata": {
    "collapsed": false
   },
   "outputs": [],
   "source": [
    "x = 3\n",
    "type(x)"
   ]
  },
  {
   "cell_type": "code",
   "execution_count": null,
   "metadata": {
    "collapsed": false
   },
   "outputs": [],
   "source": [
    "x = 5.0\n",
    "type(x)"
   ]
  },
  {
   "cell_type": "markdown",
   "metadata": {},
   "source": [
    "Den Wert eines Ausdrucks können Sie mit der Funktion print() ausgeben:"
   ]
  },
  {
   "cell_type": "code",
   "execution_count": null,
   "metadata": {
    "collapsed": false
   },
   "outputs": [],
   "source": [
    "x = 3\n",
    "print(x)\n",
    "x = 5.0\n",
    "print(x)"
   ]
  },
  {
   "cell_type": "markdown",
   "metadata": {},
   "source": [
    "Ein weiterer wichtiger Datentyp ist bool. Das besondere hier ist, dass Ausdrücke dieses Typs nur zwei unterschiedliche Werte - True oder False - annehmen können: "
   ]
  },
  {
   "cell_type": "code",
   "execution_count": null,
   "metadata": {
    "collapsed": false
   },
   "outputs": [],
   "source": [
    "b = True\n",
    "type(b)"
   ]
  },
  {
   "cell_type": "markdown",
   "metadata": {},
   "source": [
    "Überlegen Sie sich bitte bei den folgenden Ausdrücken, welchen Wert und Datentyp sie haben und prüfen das erst danach durch Ausführen der Zelle nach (den Typ können Sie mit der Funktion type() herausfinden)."
   ]
  },
  {
   "cell_type": "code",
   "execution_count": null,
   "metadata": {
    "collapsed": false
   },
   "outputs": [],
   "source": [
    "3 + 5.0"
   ]
  },
  {
   "cell_type": "code",
   "execution_count": null,
   "metadata": {
    "collapsed": false
   },
   "outputs": [],
   "source": [
    "5/2"
   ]
  },
  {
   "cell_type": "code",
   "execution_count": null,
   "metadata": {
    "collapsed": false
   },
   "outputs": [],
   "source": [
    "5/2 == 5/2.0"
   ]
  },
  {
   "cell_type": "code",
   "execution_count": null,
   "metadata": {
    "collapsed": false
   },
   "outputs": [],
   "source": [
    "round(2.6)"
   ]
  },
  {
   "cell_type": "code",
   "execution_count": null,
   "metadata": {
    "collapsed": true
   },
   "outputs": [],
   "source": [
    "int(2.6)"
   ]
  },
  {
   "cell_type": "markdown",
   "metadata": {},
   "source": [
    "Variablen werden verwendet, um Werte für eine spätere Verwendung zwischenzuspeichern. Insbesondere ist es damit möglich, einen Algorithmus (ein Stück eines Programms) so zu formulieren, dass dieser für verschiedene Eingangsdaten ausgeführt werden kann.\n",
    "Dies entspricht dem grundlegenden EVA (Eingabe/Verarbeitung/Ausgabe) Schema der Datenverarbeitung: Ein Programm nimmt Eingaben entgegen, verarbeitet diese und erzeugt eine Ausgabe."
   ]
  },
  {
   "cell_type": "markdown",
   "metadata": {},
   "source": [
    "## Zusammenfassung\n",
    "\n",
    "Variablen haben einen Namen und einen Datentyp. Dieser legt fest, welche Art von Werten in der Variable gespeichert werden können (und wieviel Platz im Speicher reserviert werden muss). Der Datentyp einer Variable wird in python durch eine Zuweisung festgelegt.\n",
    "\n",
    "Variablen und insbesondere Datentypen sind mächtige Konzepte, die vollständig zu verstehen eine Weile dauert ..... Wir werden noch (viel) mehr zu diesem Thema sehen ...."
   ]
  }
 ],
 "metadata": {
  "kernelspec": {
   "display_name": "Python 3",
   "language": "python",
   "name": "python3"
  },
  "language_info": {
   "codemirror_mode": {
    "name": "ipython",
    "version": 3
   },
   "file_extension": ".py",
   "mimetype": "text/x-python",
   "name": "python",
   "nbconvert_exporter": "python",
   "pygments_lexer": "ipython3",
   "version": "3.4.3"
  }
 },
 "nbformat": 4,
 "nbformat_minor": 0
}
