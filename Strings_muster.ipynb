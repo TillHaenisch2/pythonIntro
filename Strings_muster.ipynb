{
 "cells": [
  {
   "cell_type": "markdown",
   "metadata": {},
   "source": [
    "# Strings\n",
    "\n",
    "Strings, also Zeichenketten, sind einer der am häufigsten benötigten Datentypen. Sie unterscheiden sich von den Datentypen, die wir bisher kennengelernt haben insbesondere dadurch, dass sie nicht atomar sind, sondern aus Einzelelementen, den einzelnen Buchstaben, bestehen.\n",
    "\n",
    "Ein String-Objekt (was auch immer das genau ist, siehe später) stellt eine Zeichenkette praktisch beliebiger Länge dar. Konstante Zeichenketten werden durch Anführungszeichen terminiert.\n",
    "\n",
    "Ein neues String-Objekt wird am einfachsten durch Initialisierung mit einer Konstanten erzeugt: s = \"Hallo\";\n",
    "Klasse String stellt eine Vielzahl von Methoden zur Verfügung, siehe <a href=\"https://docs.python.org/3.5/library/string.html\">hier</a>\n",
    "\n",
    "(oder einfach nach python strings googeln ;-)\n",
    "\n",
    "Die Funktion len(s) liefert etwa die Länge eines Strings zurück, die Methode s.upper() wandelt s in Großbuchstaben um usw."
   ]
  },
  {
   "cell_type": "code",
   "execution_count": 19,
   "metadata": {
    "collapsed": false
   },
   "outputs": [
    {
     "name": "stdout",
     "output_type": "stream",
     "text": [
      "11\n",
      "HELLO WORLD\n"
     ]
    }
   ],
   "source": [
    "s = \"Hello world\"\n",
    "\n",
    "print(len(s))\n",
    "\n",
    "print(s.upper())"
   ]
  },
  {
   "cell_type": "markdown",
   "metadata": {},
   "source": [
    "Schauen Sie sich die Dokumentation python strings an und probieren Sie einige (für Sie) interessante Funktionen aus"
   ]
  },
  {
   "cell_type": "markdown",
   "metadata": {},
   "source": [
    "Der Zugriff auf einzelne Buchstaben und/oder Teile eines Strings erfolgt über den [] Operator. Ein einzelnes Zeichen erhält man durch Angabe eines Indixes, einen Teilstring durch einen Bereich:"
   ]
  },
  {
   "cell_type": "code",
   "execution_count": 20,
   "metadata": {
    "collapsed": false
   },
   "outputs": [
    {
     "name": "stdout",
     "output_type": "stream",
     "text": [
      "H\n",
      "el\n",
      "Hello world\n"
     ]
    }
   ],
   "source": [
    "s = \"Hello world\"\n",
    "print(s[0])\n",
    "print(s[1:3])\n",
    "print(s[0:len(s)])"
   ]
  },
  {
   "cell_type": "markdown",
   "metadata": {},
   "source": [
    "Der Index des ersten Buchstabens ist dabei 0 (das hat i.w. historische Gründe). Insbesondere die Angabe von Bereichen ist sehr flexibel. Der Bereich [m:n] liefert einen Ausschnitt des Strings zurück, der beim m-ten Buchstaben beginnt und bis vor den n-ten Buchstaben geht. Läßt man den ersten Index weg, begint der Ausschnitt am Anfang des Strings. Läßt man den zweiten Index weg, geht der Ausschnitt bis zum Ende des Strings:"
   ]
  },
  {
   "cell_type": "code",
   "execution_count": 21,
   "metadata": {
    "collapsed": false
   },
   "outputs": [
    {
     "name": "stdout",
     "output_type": "stream",
     "text": [
      "Hel\n",
      "lo world\n"
     ]
    }
   ],
   "source": [
    "print(s[:3])\n",
    "print(s[3:])"
   ]
  },
  {
   "cell_type": "markdown",
   "metadata": {},
   "source": [
    "Erstellen Sie ein Programm, das einen String \"rückwärts\" ausgibt, also den letzten Buchstaben zuerst, dann den zweitletzten usw."
   ]
  },
  {
   "cell_type": "code",
   "execution_count": 105,
   "metadata": {
    "collapsed": false
   },
   "outputs": [],
   "source": [
    "def backwards(s):\n",
    "    backw = []\n",
    "    for i in range(len(s)-1,-1,-1):\n",
    "        backw.append(s[i])\n",
    "    return \"\".join(backw)\n",
    "\n",
    "def backwards2(s):\n",
    "    return s[::-1]"
   ]
  },
  {
   "cell_type": "code",
   "execution_count": 106,
   "metadata": {
    "collapsed": false
   },
   "outputs": [
    {
     "name": "stdout",
     "output_type": "stream",
     "text": [
      "dlrow olleH\n"
     ]
    }
   ],
   "source": [
    "s = \"Hello world\"\n",
    "print(backwards2(s))"
   ]
  },
  {
   "cell_type": "markdown",
   "metadata": {},
   "source": [
    "Erweitern Sie das Programm so, dass geprüft wird, ob ein Wort ein Palindrom ist. Ein Palindrom ist ein Wort, das von vorne und von hinten gelesen gleich ist, z.B. \"OTTO\". Implementieren Sie dazu die Funktion is_palindrom(s), die True oder False zurücklifert, je nachdem, ob s ein Palindrom ist."
   ]
  },
  {
   "cell_type": "code",
   "execution_count": 24,
   "metadata": {
    "collapsed": true
   },
   "outputs": [],
   "source": [
    "def is_palindrom(s):\n",
    "    length = len(s) // 2\n",
    "    p = True\n",
    "    for i in range(length):\n",
    "        if s[i] !=  s[(i+1)*-1]:\n",
    "            p = False\n",
    "        #print(s[i],  s[(i+1)*-1])\n",
    "    return p\n",
    "\n",
    "def is_palindrom2(s):\n",
    "    return backwards2(s)== s"
   ]
  },
  {
   "cell_type": "code",
   "execution_count": 110,
   "metadata": {
    "collapsed": false
   },
   "outputs": [
    {
     "name": "stdout",
     "output_type": "stream",
     "text": [
      "radar:  True \n",
      "hallo: False \n",
      "\n",
      "radar:  True \n",
      "hallo: False\n"
     ]
    }
   ],
   "source": [
    "print(\"radar: \", is_palindrom('radar'), \"\\nhallo:\", is_palindrom('hallo'), '\\n')\n",
    "print(\"radar: \", is_palindrom2('radar'), \"\\nhallo:\", is_palindrom2('hallo'))\n"
   ]
  },
  {
   "cell_type": "markdown",
   "metadata": {},
   "source": [
    "Schreiben Sie ein Programm, das bestimmt, wie oft ein bestimmter String in einem anderen vorkommt, beispielsweise kommt \"ei\" 2x in \"Kleingeist\" vor."
   ]
  },
  {
   "cell_type": "code",
   "execution_count": 31,
   "metadata": {
    "collapsed": false
   },
   "outputs": [
    {
     "name": "stdout",
     "output_type": "stream",
     "text": [
      "2\n"
     ]
    }
   ],
   "source": [
    "s = \"Kleingeist\"\n",
    "pattern = \"ei\"\n",
    "\n",
    "counter = 0\n",
    "for i in range(len(s)-1):\n",
    "    if s[i] == \"e\":\n",
    "        if s[i+1] == \"i\":\n",
    "            #print(\"found\")\n",
    "            counter += 1\n",
    "print(counter)\n"
   ]
  },
  {
   "cell_type": "code",
   "execution_count": 112,
   "metadata": {
    "collapsed": false
   },
   "outputs": [
    {
     "data": {
      "text/plain": [
       "2"
      ]
     },
     "execution_count": 112,
     "metadata": {},
     "output_type": "execute_result"
    }
   ],
   "source": [
    "s = \"Kleingeist\"\n",
    "pattern = \"ei\"\n",
    "\n",
    "\"\"\"\n",
    "str.count(sub[, start[, end]])\n",
    "Return the number of non-overlapping occurrences of substring sub in the range [start, end]. \n",
    "Optional arguments start and end are interpreted as in slice notation.\n",
    "\"\"\"\n",
    "\n",
    "s.count(pattern)"
   ]
  },
  {
   "cell_type": "markdown",
   "metadata": {},
   "source": [
    "In dieser Aufgabe geht es darum, einen String (etwa einen Satz) in einzelne Wörter zu zerlegen. Gehen Sie davon aus, dass sich zwischen zwei Wörtern immer ein Leerzeichen befindet. Als Beispiel nehmen wir String s = „Das ist ein kurzer aber schöner Satz“;\n",
    "\n",
    "Schreiben Sie eine Funktion  count_words(s), die die Anzahl der Wörter im übergebenen String zurückliefert (im Beispiel 7) und testen Sie diese.\n",
    "\n",
    "Erweitern Sie Ihr Programm so, dass die einzelnen Wörter jeweils in einer Zeile ausgegeben werden, im Beispiel also:\n",
    "\n",
    "Das\n",
    "\n",
    "ist\n",
    "\n",
    "ein\n",
    "\n",
    "kurzer\n",
    "\n",
    "aber\n",
    "\n",
    "schöner\n",
    "\n",
    "Satz\n",
    "\n",
    "Erstellen Sie dazu eine Funktion tokenize(s), die genau das tut.\n",
    "\n",
    "Hinweis: Das war vor einigen Jahren eine Klausuraufgabe, das ist in etwa der Schwierigkeitsgrad, den SIe in der Prüfung erwarten können."
   ]
  },
  {
   "cell_type": "code",
   "execution_count": 113,
   "metadata": {
    "collapsed": false
   },
   "outputs": [
    {
     "name": "stdout",
     "output_type": "stream",
     "text": [
      "wc: 7\n",
      "Das\n",
      "\n",
      "ist\n",
      "\n",
      "ein\n",
      "\n",
      "kurzer\n",
      "\n",
      "aber\n",
      "\n",
      "schöner\n",
      "\n",
      "Satz\n",
      "\n",
      "None\n"
     ]
    }
   ],
   "source": [
    "s = \"Das ist ein kurzer aber schöner Satz\"\n",
    "\n",
    "def count_words(s):\n",
    "    return len(s.split())\n",
    "\n",
    "print(\"wc:\", count_words(s))\n",
    "    \n",
    "def tokenize(s):\n",
    "    s = s.split()\n",
    "    for element in s:\n",
    "        print(element)\n",
    "        print()\n",
    "\n",
    "print(tokenize(s))"
   ]
  },
  {
   "cell_type": "markdown",
   "metadata": {},
   "source": [
    "Run Length Encoding ist ein weit verbreitetes Kompressionsverfahren, dass etwa beim JPEG-Algorithmus eingesetzt wird. Es funktioniert so, dass n Wiederholungen eines Symbols durch eine Angabe der Form nxSymbol ersetzt werden.\n",
    "\n",
    "So wird etwa aus dem String AAAAAAAAAABBBBBCCCCCCCCCC 10A5B10C.\n",
    "\n",
    "Schreiben Sie eine Funktion encode(s), die einen String (der der Einfachheit halber nur aus Großbuchstaben besteht) mit RLE komprimiert.\n",
    "\n",
    "Schreiben Sie eine Funktion decode(s), die einen RLE-komprimierten String wieder in die ursprüngliche Darstelluung umwandelt."
   ]
  },
  {
   "cell_type": "code",
   "execution_count": 8,
   "metadata": {
    "collapsed": false
   },
   "outputs": [],
   "source": [
    "def encode(s):\n",
    "    result = \"\"\n",
    "    last = None\n",
    "    counter = 1\n",
    "    for char in s:\n",
    "        if char == last:\n",
    "            counter += 1\n",
    "        elif last is None:\n",
    "            last = char\n",
    "        else:\n",
    "            result += str(counter)+str(last)\n",
    "            last = char\n",
    "            counter = 1\n",
    "    result += str(counter)+str(last)\n",
    "    return result\n",
    "            \n",
    "            \n",
    "import string        \n",
    "    \n",
    "def decode(e):\n",
    "    last = \"\"\n",
    "    result = \"\"\n",
    "    for char in e:\n",
    "        last += char\n",
    "        if char in string.ascii_uppercase:\n",
    "            number = int(last[:-1])\n",
    "            result += char * number\n",
    "            last = \"\"\n",
    "    return result"
   ]
  },
  {
   "cell_type": "code",
   "execution_count": 9,
   "metadata": {
    "collapsed": false
   },
   "outputs": [
    {
     "name": "stdout",
     "output_type": "stream",
     "text": [
      "Test OK\n"
     ]
    },
    {
     "data": {
      "text/plain": [
       "'10A5B10C'"
      ]
     },
     "execution_count": 9,
     "metadata": {},
     "output_type": "execute_result"
    }
   ],
   "source": [
    "s = \"AAAAAAAAAABBBBBCCCCCCCCCC\"\n",
    "s_encoded = \"10A5B10C\"\n",
    "\n",
    "\n",
    "if encode(s) == s_encoded:\n",
    "    print(\"Test OK\")\n",
    "else:\n",
    "    print(\"Test failed\")\n",
    "    \n",
    "encode(s)"
   ]
  },
  {
   "cell_type": "code",
   "execution_count": 3,
   "metadata": {
    "collapsed": false
   },
   "outputs": [
    {
     "name": "stdout",
     "output_type": "stream",
     "text": [
      "Test OK\n"
     ]
    },
    {
     "data": {
      "text/plain": [
       "'AAAAAAAAAABBBBBCCCCCCCCCC'"
      ]
     },
     "execution_count": 3,
     "metadata": {},
     "output_type": "execute_result"
    }
   ],
   "source": [
    "if decode(s_encoded) == s:\n",
    "    print(\"Test OK\")\n",
    "else:\n",
    "    print(\"Test failed\")\n",
    "    \n",
    "decode(s_encoded)"
   ]
  },
  {
   "cell_type": "markdown",
   "metadata": {},
   "source": [
    "Warnung: Die folgenden beiden Aufgaben sind zwar recht interessant, aber nicht ganz einfach. Also nur für die Mutigen ;-)\n",
    "\n",
    "Schreiben Sie ein Programm, das die ersten zehn Look And Say Zahlen berechnet\n",
    "\n",
    "(siehe <a href=\"http://mathworld.wolfram.com/LookandSaySequence.html\">hier</a>).\n",
    "\n",
    "Starten Sie dazu mit der Zahl 1. Die nächste Zahl ist 11 (eine eins). Die nächste ist 21 (zwei mal eins). Die nächste ist 1211 (eine zwei, eine eins). Die nächste 111221 (eine eins, eine zwei zwei mal eins) usw.\n",
    "\n",
    "Stellen Sie dazu die Zahl als String dar, aus dem Sie dann den nächsten berechnen. Die Funktion say(s) erzeugt aus einer Zahl die nächste, beide als String."
   ]
  },
  {
   "cell_type": "code",
   "execution_count": 10,
   "metadata": {
    "collapsed": true
   },
   "outputs": [],
   "source": [
    "def say(s):\n",
    "    val = s[0]\n",
    "    count = 1\n",
    "    look = \"\"\n",
    "    for c in s[1:]:\n",
    "        if (c == val):\n",
    "            count = count + 1\n",
    "        else:\n",
    "            look = look + str(count) + val\n",
    "            count = 1\n",
    "            val = c\n",
    "    return look + str(count) + val\n"
   ]
  },
  {
   "cell_type": "code",
   "execution_count": 11,
   "metadata": {
    "collapsed": false
   },
   "outputs": [
    {
     "name": "stdout",
     "output_type": "stream",
     "text": [
      "1\n",
      "11\n",
      "21\n",
      "1211\n",
      "111221\n",
      "312211\n",
      "13112221\n",
      "1113213211\n",
      "31131211131221\n",
      "13211311123113112211\n"
     ]
    }
   ],
   "source": [
    "s = \"1\"\n",
    "for i in range(10):\n",
    "    print(s)\n",
    "    s = say(s)"
   ]
  },
  {
   "cell_type": "markdown",
   "metadata": {},
   "source": [
    "Schreiben Sie eine Funktion read_term(term) , die einen als String übergebenen arithmetischen Ausdruck \"vorliest\", also aus 1*2/3-5 den String \"eins mal zwei durch drei minus fünf\" macht. Beschränken Sie sich zunächst auf einstellige Zahlen, also die von 0 bis 9.\n",
    "\n",
    "Erweitern Sie die Funktion so, dass auch Zahlen größer als 9 richtig umgewandelt werden."
   ]
  },
  {
   "cell_type": "code",
   "execution_count": 14,
   "metadata": {
    "collapsed": true
   },
   "outputs": [],
   "source": [
    "def read_term(term):\n",
    "    result = \"\"\n",
    "    operands = {\"*\":\"mal\",\"/\":\"durch\",\"+\":\"plus\",\"-\":\"minus\"}\n",
    "    numbers = [\"Null\",\"Eins\",\"Zwei\",\"Drei\",\"Vier\",\"Fünf\",\"Sechs\",\"Sieben\",\"Acht\",\"Neun\"]\n",
    "    for c in term:\n",
    "        if (c in string.digits):\n",
    "            result += numbers[int(c)] + \" \"\n",
    "        else:\n",
    "            result += operands[c] + \" \"\n",
    "\n",
    "    return result"
   ]
  },
  {
   "cell_type": "code",
   "execution_count": 15,
   "metadata": {
    "collapsed": false
   },
   "outputs": [
    {
     "name": "stdout",
     "output_type": "stream",
     "text": [
      "Eins mal Zwei durch Drei minus Fünf \n"
     ]
    }
   ],
   "source": [
    "t = \"1*2/3-5\"\n",
    "print(read_term(t))"
   ]
  },
  {
   "cell_type": "code",
   "execution_count": null,
   "metadata": {
    "collapsed": true
   },
   "outputs": [],
   "source": []
  }
 ],
 "metadata": {
  "kernelspec": {
   "display_name": "Python 3",
   "language": "python",
   "name": "python3"
  },
  "language_info": {
   "codemirror_mode": {
    "name": "ipython",
    "version": 3
   },
   "file_extension": ".py",
   "mimetype": "text/x-python",
   "name": "python",
   "nbconvert_exporter": "python",
   "pygments_lexer": "ipython3",
   "version": "3.4.3"
  }
 },
 "nbformat": 4,
 "nbformat_minor": 0
}
